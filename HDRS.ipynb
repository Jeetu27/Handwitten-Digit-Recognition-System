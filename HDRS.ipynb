{
 "cells": [
  {
   "cell_type": "code",
   "execution_count": 36,
   "id": "d3572928",
   "metadata": {},
   "outputs": [
    {
     "name": "stdout",
     "output_type": "stream",
     "text": [
      "Collecting image\n",
      "  Downloading image-1.5.33.tar.gz (15 kB)\n",
      "Collecting pillow\n",
      "  Downloading Pillow-9.0.1-cp39-cp39-win_amd64.whl (3.2 MB)\n",
      "Collecting django\n",
      "  Downloading Django-4.0.3-py3-none-any.whl (8.0 MB)\n",
      "Requirement already satisfied: six in c:\\users\\grush\\anaconda3\\envs\\new\\lib\\site-packages (from image) (1.16.0)\n",
      "Collecting sqlparse>=0.2.2\n",
      "  Downloading sqlparse-0.4.2-py3-none-any.whl (42 kB)\n",
      "Collecting tzdata\n",
      "  Downloading tzdata-2022.1-py2.py3-none-any.whl (339 kB)\n",
      "Collecting asgiref<4,>=3.4.1\n",
      "  Downloading asgiref-3.5.0-py3-none-any.whl (22 kB)\n",
      "Building wheels for collected packages: image\n",
      "  Building wheel for image (setup.py): started\n",
      "  Building wheel for image (setup.py): finished with status 'done'\n",
      "  Created wheel for image: filename=image-1.5.33-py2.py3-none-any.whl size=19498 sha256=e146d449ac4dca1a90c4b8668e129ff5074d4b808a6e795cf8d499010e687759\n",
      "  Stored in directory: c:\\users\\grush\\appdata\\local\\pip\\cache\\wheels\\14\\4c\\7c\\d9b5c35a149d3bc8c72c7e92372913ff7dac9c6bd94bd1b8c9\n",
      "Successfully built image\n",
      "Installing collected packages: tzdata, sqlparse, asgiref, pillow, django, image\n",
      "Successfully installed asgiref-3.5.0 django-4.0.3 image-1.5.33 pillow-9.0.1 sqlparse-0.4.2 tzdata-2022.1\n",
      "Note: you may need to restart the kernel to use updated packages.\n"
     ]
    }
   ],
   "source": [
    "pip install image"
   ]
  },
  {
   "cell_type": "code",
   "execution_count": 1,
   "id": "e6f06021",
   "metadata": {},
   "outputs": [
    {
     "name": "stdout",
     "output_type": "stream",
     "text": [
      "(60000, 28, 28) (60000,)\n"
     ]
    }
   ],
   "source": [
    "import keras\n",
    "from keras.datasets import mnist\n",
    "from keras.models import Sequential\n",
    "from keras.utils import np_utils\n",
    "from keras.layers import Dense, Dropout, Flatten\n",
    "from keras.layers import Conv2D, MaxPooling2D\n",
    "from keras import backend as K\n",
    "import tensorflow as tf\n",
    "\n",
    "# the data, split between train and test sets\n",
    "(x_train, y_train), (x_test, y_test) = mnist.load_data()\n",
    "\n",
    "print(x_train.shape, y_train.shape)"
   ]
  },
  {
   "cell_type": "code",
   "execution_count": 2,
   "id": "8f57a748",
   "metadata": {},
   "outputs": [
    {
     "name": "stdout",
     "output_type": "stream",
     "text": [
      "x_train shape: (60000, 28, 28, 1)\n",
      "60000 train samples\n",
      "10000 test samples\n"
     ]
    }
   ],
   "source": [
    "x_train = x_train.reshape(x_train.shape[0], 28, 28, 1)\n",
    "x_test = x_test.reshape(x_test.shape[0], 28, 28, 1)\n",
    "input_shape = (28, 28, 1)\n",
    "\n",
    "# convert class vectors to binary class matrices\n",
    "y_train = keras.utils.np_utils.to_categorical(y_train, num_classes=0)\n",
    "y_test = keras.utils.np_utils.to_categorical(y_test, num_classes=0)\n",
    "\n",
    "x_train = x_train.astype('float32')\n",
    "x_test = x_test.astype('float32')\n",
    "x_train /= 255\n",
    "x_test /= 255\n",
    "print('x_train shape:', x_train.shape)\n",
    "print(x_train.shape[0], 'train samples')\n",
    "print(x_test.shape[0], 'test samples')"
   ]
  },
  {
   "cell_type": "code",
   "execution_count": 3,
   "id": "dddb19a1",
   "metadata": {},
   "outputs": [],
   "source": [
    "batch_size = 128\n",
    "num_classes = 10\n",
    "epochs = 10\n",
    "\n",
    "model = Sequential()\n",
    "model.add(Conv2D(32, kernel_size=(3, 3),activation='relu',input_shape=input_shape))\n",
    "model.add(Conv2D(64, (3, 3), activation='relu'))\n",
    "model.add(MaxPooling2D(pool_size=(2, 2)))\n",
    "model.add(Dropout(0.25))\n",
    "model.add(Flatten())\n",
    "model.add(Dense(256, activation='relu'))\n",
    "model.add(Dropout(0.5))\n",
    "model.add(Dense(num_classes, activation='softmax'))\n",
    " \n",
    "model.compile(loss=keras.losses.categorical_crossentropy,optimizer=tf.optimizers.Adam(),metrics=['accuracy'])"
   ]
  },
  {
   "cell_type": "code",
   "execution_count": 4,
   "id": "5885c9dd",
   "metadata": {},
   "outputs": [
    {
     "name": "stdout",
     "output_type": "stream",
     "text": [
      "Epoch 1/10\n",
      "469/469 [==============================] - 254s 538ms/step - loss: 0.2028 - accuracy: 0.9373 - val_loss: 0.0482 - val_accuracy: 0.9838\n",
      "Epoch 2/10\n",
      "469/469 [==============================] - 295s 629ms/step - loss: 0.0659 - accuracy: 0.9797 - val_loss: 0.0354 - val_accuracy: 0.9877\n",
      "Epoch 3/10\n",
      "469/469 [==============================] - 312s 666ms/step - loss: 0.0488 - accuracy: 0.9850 - val_loss: 0.0280 - val_accuracy: 0.9906\n",
      "Epoch 4/10\n",
      "469/469 [==============================] - 338s 721ms/step - loss: 0.0399 - accuracy: 0.9879 - val_loss: 0.0292 - val_accuracy: 0.9907\n",
      "Epoch 5/10\n",
      "469/469 [==============================] - 370s 788ms/step - loss: 0.0329 - accuracy: 0.9887 - val_loss: 0.0277 - val_accuracy: 0.9909\n",
      "Epoch 6/10\n",
      "469/469 [==============================] - 428s 913ms/step - loss: 0.0281 - accuracy: 0.9911 - val_loss: 0.0247 - val_accuracy: 0.9921\n",
      "Epoch 7/10\n",
      "469/469 [==============================] - 291s 621ms/step - loss: 0.0245 - accuracy: 0.9924 - val_loss: 0.0265 - val_accuracy: 0.9916\n",
      "Epoch 8/10\n",
      "469/469 [==============================] - 287s 612ms/step - loss: 0.0207 - accuracy: 0.9931 - val_loss: 0.0318 - val_accuracy: 0.9905\n",
      "Epoch 9/10\n",
      "469/469 [==============================] - 279s 596ms/step - loss: 0.0204 - accuracy: 0.9932 - val_loss: 0.0251 - val_accuracy: 0.9920\n",
      "Epoch 10/10\n",
      "469/469 [==============================] - 274s 583ms/step - loss: 0.0178 - accuracy: 0.9941 - val_loss: 0.0258 - val_accuracy: 0.9919\n",
      "The model has successfully trained\n",
      "Saving the model as mnist.h5\n"
     ]
    }
   ],
   "source": [
    "hist = model.fit(x_train, y_train,batch_size=batch_size,epochs=epochs,verbose=1,validation_data=(x_test, y_test))\n",
    "print(\"The model has successfully trained\")\n",
    "\n",
    "model.save('mnist.h5')\n",
    "print(\"Saving the model as mnist.h5\")"
   ]
  },
  {
   "cell_type": "code",
   "execution_count": 5,
   "id": "2cf5cd30",
   "metadata": {},
   "outputs": [
    {
     "name": "stdout",
     "output_type": "stream",
     "text": [
      "Test loss: 0.025840453803539276\n",
      "Test accuracy: 0.9919000267982483\n"
     ]
    }
   ],
   "source": [
    "score = model.evaluate(x_test, y_test, verbose=0)\n",
    "print('Test loss:', score[0])\n",
    "print('Test accuracy:', score[1])"
   ]
  },
  {
   "cell_type": "code",
   "execution_count": 37,
   "id": "40706222",
   "metadata": {},
   "outputs": [],
   "source": []
  },
  {
   "cell_type": "code",
   "execution_count": null,
   "id": "d18b2870",
   "metadata": {},
   "outputs": [],
   "source": []
  }
 ],
 "metadata": {
  "kernelspec": {
   "display_name": "Python 3 (ipykernel)",
   "language": "python",
   "name": "python3"
  },
  "language_info": {
   "codemirror_mode": {
    "name": "ipython",
    "version": 3
   },
   "file_extension": ".py",
   "mimetype": "text/x-python",
   "name": "python",
   "nbconvert_exporter": "python",
   "pygments_lexer": "ipython3",
   "version": "3.9.12"
  }
 },
 "nbformat": 4,
 "nbformat_minor": 5
}
